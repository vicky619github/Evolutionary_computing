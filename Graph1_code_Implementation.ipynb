{
 "cells": [
  {
   "cell_type": "markdown",
   "id": "17f4c6b3",
   "metadata": {},
   "source": [
    "# DFS"
   ]
  },
  {
   "cell_type": "code",
   "execution_count": 6,
   "id": "ae215be2",
   "metadata": {},
   "outputs": [
    {
     "name": "stdout",
     "output_type": "stream",
     "text": [
      "Depth-First Search starting from vertex S\n",
      "Goal vertex 'F' found!\n",
      "Path from 'S' to 'F': S->B->D->F\n"
     ]
    }
   ],
   "source": [
    "def depth_first_search(graph, start_vertex_index, goal_vertex_index):\n",
    "    # Initialize data structures\n",
    "    visited = set()\n",
    "    stack = [(start_vertex_index, [start_vertex_index])]  # Stack now stores a tuple (vertex_index, path)\n",
    "\n",
    "    while stack:\n",
    "        vertex_index, path = stack.pop()\n",
    "        if vertex_index not in visited:\n",
    "            visited.add(vertex_index)\n",
    "\n",
    "            # Check if the goal vertex is reached\n",
    "            if vertex_index == goal_vertex_index:\n",
    "                print(\"Goal vertex 'F' found!\")\n",
    "                print(\"Path from 'S' to 'F':\", \"->\".join([nodes[i] for i in path]))\n",
    "                return\n",
    "\n",
    "            # Get neighbors of the current vertex\n",
    "            neighbors = [i for i, value in enumerate(graph[vertex_index]) if value == 1]\n",
    "\n",
    "            # Push unvisited neighbors onto the stack with the updated path\n",
    "            for neighbor in neighbors:\n",
    "                if neighbor not in visited:\n",
    "                    new_path = path + [neighbor]\n",
    "                    stack.append((neighbor, new_path))\n",
    "\n",
    "    # If the loop finishes and the goal vertex is not found\n",
    "    print(\"Goal vertex 'F' not found in the graph.\")\n",
    "\n",
    "# Define the graph (using the adjacency matrix)\n",
    "nodes = ['S', 'A', 'B', 'C', 'D', 'E', 'F']\n",
    "adjacency_matrix = [\n",
    "    [0, 1, 1, 0, 0, 0, 0],\n",
    "    [1, 0, 0, 0, 0, 0, 1],\n",
    "    [1, 0, 0, 1, 1, 0, 0],\n",
    "    [0, 0, 1, 0, 0, 1, 0],\n",
    "    [0, 0, 1, 0, 0, 0, 1],\n",
    "    [0, 0, 0, 1, 0, 0, 1],\n",
    "    [0, 1, 0, 0, 1, 1, 0]\n",
    "]\n",
    "\n",
    "# Starting vertex for DFS\n",
    "start_vertex = 'S'\n",
    "goal_vertex = 'F'\n",
    "start_vertex_index = nodes.index(start_vertex)\n",
    "goal_vertex_index = nodes.index(goal_vertex)\n",
    "\n",
    "print(\"Depth-First Search starting from vertex\", start_vertex)\n",
    "depth_first_search(adjacency_matrix, start_vertex_index, goal_vertex_index)\n"
   ]
  },
  {
   "cell_type": "markdown",
   "id": "0a9f3b56",
   "metadata": {},
   "source": [
    "# BMS"
   ]
  },
  {
   "cell_type": "code",
   "execution_count": 11,
   "id": "53341bf4",
   "metadata": {},
   "outputs": [
    {
     "name": "stdout",
     "output_type": "stream",
     "text": [
      "British Museum Search starting from vertex S\n",
      "All paths from 'S' to 'F':\n",
      "S -> A -> F\n",
      "S -> B -> C -> E -> F\n",
      "S -> B -> D -> F\n"
     ]
    }
   ],
   "source": [
    "from collections import deque\n",
    "\n",
    "def british_museum_search(graph, start_vertex, goal_vertex):\n",
    "    def find_paths_recursive(current_vertex, path):\n",
    "        if current_vertex == goal_vertex:\n",
    "            all_paths.append(path)\n",
    "        else:\n",
    "            visited.add(current_vertex)\n",
    "            neighbors = graph[current_vertex]\n",
    "            for neighbor in neighbors:\n",
    "                if neighbor not in visited:\n",
    "                    find_paths_recursive(neighbor, path + [neighbor])\n",
    "            visited.remove(current_vertex)\n",
    "\n",
    "    visited = set()\n",
    "    all_paths = []\n",
    "\n",
    "    find_paths_recursive(start_vertex, [start_vertex])\n",
    "\n",
    "    if all_paths:\n",
    "        print(\"All paths from '{}' to '{}':\".format(start_vertex, goal_vertex))\n",
    "        for path in all_paths:\n",
    "            print(' -> '.join(path))\n",
    "    else:\n",
    "        print(\"No paths found from '{}' to '{}'.\".format(start_vertex, goal_vertex))\n",
    "\n",
    "# Define the graph as an adjacency list\n",
    "graph = {\n",
    "    'S': ['A', 'B'],\n",
    "    'A': ['S', 'F'],\n",
    "    'B': ['S', 'C', 'D'],\n",
    "    'C': ['B', 'E'],\n",
    "    'D': ['B', 'F'],\n",
    "    'E': ['C', 'F'],\n",
    "    'F': ['A', 'D', 'E']\n",
    "}\n",
    "\n",
    "# Starting and goal vertices\n",
    "start_vertex = 'S'\n",
    "goal_vertex = 'F'\n",
    "\n",
    "print(\"British Museum Search starting from vertex\", start_vertex)\n",
    "british_museum_search(graph, start_vertex, goal_vertex)\n"
   ]
  },
  {
   "cell_type": "markdown",
   "id": "48c24184",
   "metadata": {},
   "source": [
    "# BFS"
   ]
  },
  {
   "cell_type": "code",
   "execution_count": 12,
   "id": "8799ac18",
   "metadata": {},
   "outputs": [
    {
     "name": "stdout",
     "output_type": "stream",
     "text": [
      "Breadth-First Search starting from vertex S\n",
      "All paths from 'S' to 'F':\n",
      "S -> A -> F\n"
     ]
    }
   ],
   "source": [
    "from collections import deque\n",
    "\n",
    "def breadth_first_search(graph, start_vertex, goal_vertex):\n",
    "    # Initialize data structures\n",
    "    visited = set()\n",
    "    queue = deque([(start_vertex, [start_vertex])])  # Queue stores (vertex, path) tuples\n",
    "    paths = []\n",
    "\n",
    "    while queue:\n",
    "        current_vertex, path = queue.popleft()\n",
    "        \n",
    "        if current_vertex == goal_vertex:\n",
    "            # If the current vertex is the goal, add the path to the list of paths\n",
    "            paths.append(path)\n",
    "        \n",
    "        if current_vertex not in visited:\n",
    "            visited.add(current_vertex)\n",
    "            neighbors = graph[current_vertex]\n",
    "            \n",
    "            for neighbor in neighbors:\n",
    "                if neighbor not in visited:\n",
    "                    new_path = path + [neighbor]\n",
    "                    queue.append((neighbor, new_path))\n",
    "\n",
    "    return paths\n",
    "\n",
    "# Define the graph as an adjacency list\n",
    "graph = {\n",
    "    'S': ['A', 'B'],\n",
    "    'A': ['S', 'F'],\n",
    "    'B': ['S', 'C', 'D'],\n",
    "    'C': ['B', 'E'],\n",
    "    'D': ['B', 'F'],\n",
    "    'E': ['C', 'F'],\n",
    "    'F': ['A', 'D', 'E']\n",
    "}\n",
    "\n",
    "# Starting and goal vertices\n",
    "start_vertex = 'S'\n",
    "goal_vertex = 'F'\n",
    "\n",
    "print(\"Breadth-First Search starting from vertex\", start_vertex)\n",
    "all_paths = breadth_first_search(graph, start_vertex, goal_vertex)\n",
    "\n",
    "# Print all paths\n",
    "if all_paths:\n",
    "    print(\"All paths from 'S' to 'F':\")\n",
    "    for path in all_paths:\n",
    "        print(\" -> \".join(path))\n",
    "else:\n",
    "    print(\"No paths found from 'S' to 'F' in the graph.\")\n"
   ]
  },
  {
   "cell_type": "markdown",
   "id": "41aac799",
   "metadata": {},
   "source": [
    "# Hill climbing"
   ]
  },
  {
   "cell_type": "code",
   "execution_count": 13,
   "id": "1946fb1d",
   "metadata": {},
   "outputs": [
    {
     "name": "stdout",
     "output_type": "stream",
     "text": [
      "Path from 'S' to 'F' (Hill Climbing Search): S -> A -> F\n"
     ]
    }
   ],
   "source": [
    "# Function to perform Hill Climbing Search\n",
    "def hill_climbing_search(graph, start, goal):\n",
    "    current_node = start\n",
    "    path = [current_node]\n",
    "\n",
    "    while current_node != goal:\n",
    "        neighbors = []\n",
    "        for neighbor in range(len(graph[current_node])):\n",
    "            if graph[current_node][neighbor] == 1:\n",
    "                neighbors.append(neighbor)\n",
    "\n",
    "        if not neighbors:\n",
    "            break\n",
    "\n",
    "        # Choosing neighbor that is closest to the goal\n",
    "        closest_neighbor = min(neighbors, key=lambda neighbor: abs(neighbor - goal))\n",
    "        current_node = closest_neighbor\n",
    "        path.append(current_node)\n",
    "\n",
    "    if path[-1] == goal:\n",
    "        return path\n",
    "    else:\n",
    "        return None\n",
    "\n",
    "# Sample graph represented as an adjacency matrix\n",
    "graph = [\n",
    "    [0, 1, 0, 0, 0, 0],\n",
    "    [1, 0, 1, 0, 0, 1],\n",
    "    [0, 1, 0, 1, 1, 0],\n",
    "    [0, 0, 1, 0, 1, 1],\n",
    "    [0, 0, 1, 1, 0, 1],\n",
    "    [0, 1, 0, 1, 1, 0]\n",
    "]\n",
    "\n",
    "# Sample vertex labels\n",
    "vertices = ['S', 'A', 'B', 'C', 'D', 'F']\n",
    "\n",
    "# Helper function to get the index of a vertex\n",
    "def get_vertex_index(vertex_label):\n",
    "    return vertices.index(vertex_label)\n",
    "\n",
    "# Finding the path taken by Hill Climbing Search from S to F\n",
    "start_vertex = get_vertex_index('S')\n",
    "end_vertex = get_vertex_index('F')\n",
    "hill_climbing_path = hill_climbing_search(graph, start_vertex, end_vertex)\n",
    "\n",
    "if hill_climbing_path:\n",
    "    print(\"Path from 'S' to 'F' (Hill Climbing Search):\", \" -> \".join(vertices[vertex] for vertex in hill_climbing_path))\n",
    "else:\n",
    "    print(\"No path from 'S' to 'F'\")\n"
   ]
  },
  {
   "cell_type": "markdown",
   "id": "f82b382b",
   "metadata": {},
   "source": [
    "# Beam search"
   ]
  },
  {
   "cell_type": "code",
   "execution_count": 14,
   "id": "580f698d",
   "metadata": {},
   "outputs": [
    {
     "name": "stdout",
     "output_type": "stream",
     "text": [
      "Path from 'S' to 'F' (Beam Search): S -> A -> F\n"
     ]
    }
   ],
   "source": [
    "import heapq\n",
    "\n",
    "# Function to perform Beam Search\n",
    "def beam_search(graph, start, goal, beam_width):\n",
    "    open_list = [(0, [start])]\n",
    "    \n",
    "    while open_list:\n",
    "        _, current_path = heapq.heappop(open_list)\n",
    "        current_node = current_path[-1]\n",
    "\n",
    "        if current_node == goal:\n",
    "            return current_path\n",
    "\n",
    "        neighbors = []\n",
    "        for neighbor in range(len(graph[current_node])):\n",
    "            if graph[current_node][neighbor] == 1:\n",
    "                neighbors.append(neighbor)\n",
    "\n",
    "        next_paths = [(calculate_heuristic(neighbor, goal), current_path + [neighbor]) for neighbor in neighbors]\n",
    "        next_paths.sort(key=lambda x: x[0])  # Sort by heuristic value\n",
    "        open_list.extend(next_paths[:beam_width])  # Add top 'beam_width' paths to open_list\n",
    "\n",
    "    return None\n",
    "\n",
    "# Calculate a simple heuristic (distance to goal)\n",
    "def calculate_heuristic(node, goal):\n",
    "    return abs(node - goal)\n",
    "\n",
    "# Sample graph represented as an adjacency matrix\n",
    "graph = [\n",
    "    [0, 1, 0, 0, 0, 0],\n",
    "    [1, 0, 1, 0, 0, 1],\n",
    "    [0, 1, 0, 1, 1, 0],\n",
    "    [0, 0, 1, 0, 1, 1],\n",
    "    [0, 0, 1, 1, 0, 1],\n",
    "    [0, 1, 0, 1, 1, 0]\n",
    "]\n",
    "\n",
    "# Finding the path taken by Beam Search from 'S' to 'F' with a beam width of 2\n",
    "start_vertex = 0  # Index of 'S'\n",
    "end_vertex = 5    # Index of 'F'\n",
    "beam_width = 2    # Beam width\n",
    "\n",
    "beam_search_path = beam_search(graph, start_vertex, end_vertex, beam_width)\n",
    "\n",
    "if beam_search_path:\n",
    "    print(\"Path from 'S' to 'F' (Beam Search):\", \" -> \".join(vertices[vertex] for vertex in beam_search_path))\n",
    "else:\n",
    "    print(\"No path from 'S' to 'F'\")\n"
   ]
  },
  {
   "cell_type": "code",
   "execution_count": null,
   "id": "71009734",
   "metadata": {},
   "outputs": [],
   "source": []
  }
 ],
 "metadata": {
  "kernelspec": {
   "display_name": "Python 3 (ipykernel)",
   "language": "python",
   "name": "python3"
  },
  "language_info": {
   "codemirror_mode": {
    "name": "ipython",
    "version": 3
   },
   "file_extension": ".py",
   "mimetype": "text/x-python",
   "name": "python",
   "nbconvert_exporter": "python",
   "pygments_lexer": "ipython3",
   "version": "3.9.12"
  }
 },
 "nbformat": 4,
 "nbformat_minor": 5
}
