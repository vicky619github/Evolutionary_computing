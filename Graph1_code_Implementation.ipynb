{
 "cells": [
  {
   "cell_type": "markdown",
   "id": "03ad324a",
   "metadata": {},
   "source": [
    "# Creating graph"
   ]
  },
  {
   "cell_type": "code",
   "execution_count": 1,
   "id": "1b92b804",
   "metadata": {},
   "outputs": [
    {
     "name": "stdout",
     "output_type": "stream",
     "text": [
      "Adjacency Matrix:\n",
      "0 1 1 0 0 0 0\n",
      "1 0 0 0 0 0 1\n",
      "1 0 0 1 1 0 0\n",
      "0 0 1 0 0 1 0\n",
      "0 0 1 0 0 0 1\n",
      "0 0 0 1 0 0 1\n",
      "0 1 0 0 1 1 0\n"
     ]
    }
   ],
   "source": [
    "# Define the vertices and edges of the graph as lists\n",
    "nodes = ['S', 'A', 'B', 'C', 'D', 'E', 'F']\n",
    "edges = [('S', 'A'), ('S', 'B'), ('B', 'C'), ('B', 'D'), ('D', 'F'), ('C', 'E'), ('E', 'F'), ('A', 'F')]\n",
    "\n",
    "# Function to map vertex labels to numeric indices\n",
    "def get_vertex_index(vertex):\n",
    "    return nodes.index(vertex)\n",
    "\n",
    "# Initialize an empty adjacency matrix\n",
    "num_nodes = len(nodes)\n",
    "adjacency_matrix = [[0] * num_nodes for _ in range(num_nodes)]\n",
    "\n",
    "# Populate the adjacency matrix based on edges\n",
    "for edge in edges:\n",
    "    node1, node2 = edge\n",
    "    i, j = get_vertex_index(node1), get_vertex_index(node2)\n",
    "    adjacency_matrix[i][j] = 1  # For directed graph\n",
    "    adjacency_matrix[j][i] = 1  # For undirected graph\n",
    "\n",
    "# Print the adjacency matrix in a readable format\n",
    "print(\"Adjacency Matrix:\")\n",
    "for row in adjacency_matrix:\n",
    "    print(\" \".join(map(str, row)))\n",
    "\n"
   ]
  },
  {
   "cell_type": "markdown",
   "id": "dd5e58a3",
   "metadata": {},
   "source": [
    "# DFS"
   ]
  },
  {
   "cell_type": "code",
   "execution_count": 2,
   "id": "862b4d18",
   "metadata": {},
   "outputs": [
    {
     "name": "stdout",
     "output_type": "stream",
     "text": [
      "Depth-First Search starting from vertex S\n",
      "Goal vertex 'F' found!\n",
      "Path from 'S' to 'F': S->B->D->F\n"
     ]
    }
   ],
   "source": [
    "def depth_first_search(graph, start_vertex_index, goal_vertex_index):\n",
    "    # Initialize data structures\n",
    "    visited = set()\n",
    "    stack = [(start_vertex_index, [start_vertex_index])]  # Stack now stores a tuple (vertex_index, path)\n",
    "\n",
    "    while stack:\n",
    "        vertex_index, path = stack.pop()\n",
    "        if vertex_index not in visited:\n",
    "            visited.add(vertex_index)\n",
    "\n",
    "            # Check if the goal vertex is reached\n",
    "            if vertex_index == goal_vertex_index:\n",
    "                print(\"Goal vertex 'F' found!\")\n",
    "                print(\"Path from 'S' to 'F':\", \"->\".join([nodes[i] for i in path]))\n",
    "                return\n",
    "\n",
    "            # Get neighbors of the current vertex\n",
    "            neighbors = [i for i, value in enumerate(graph[vertex_index]) if value == 1]\n",
    "\n",
    "            # Push unvisited neighbors onto the stack with the updated path\n",
    "            for neighbor in neighbors:\n",
    "                if neighbor not in visited:\n",
    "                    new_path = path + [neighbor]\n",
    "                    stack.append((neighbor, new_path))\n",
    "\n",
    "    # If the loop finishes and the goal vertex is not found\n",
    "    print(\"Goal vertex 'F' not found in the graph.\")\n",
    "\n",
    "# Define the graph (using the adjacency matrix)\n",
    "nodes = ['S', 'A', 'B', 'C', 'D', 'E', 'F']\n",
    "adjacency_matrix = [\n",
    "    [0, 1, 1, 0, 0, 0, 0],\n",
    "    [1, 0, 0, 0, 0, 0, 1],\n",
    "    [1, 0, 0, 1, 1, 0, 0],\n",
    "    [0, 0, 1, 0, 0, 1, 0],\n",
    "    [0, 0, 1, 0, 0, 0, 1],\n",
    "    [0, 0, 0, 1, 0, 0, 1],\n",
    "    [0, 1, 0, 0, 1, 1, 0]\n",
    "]\n",
    "\n",
    "# Starting vertex for DFS\n",
    "start_vertex = 'S'\n",
    "goal_vertex = 'F'\n",
    "start_vertex_index = nodes.index(start_vertex)\n",
    "goal_vertex_index = nodes.index(goal_vertex)\n",
    "\n",
    "print(\"Depth-First Search starting from vertex\", start_vertex)\n",
    "depth_first_search(adjacency_matrix, start_vertex_index, goal_vertex_index)\n"
   ]
  },
  {
   "cell_type": "markdown",
   "id": "924486e3",
   "metadata": {},
   "source": [
    "# BMS"
   ]
  },
  {
   "cell_type": "code",
   "execution_count": 3,
   "id": "f541bfb3",
   "metadata": {},
   "outputs": [
    {
     "name": "stdout",
     "output_type": "stream",
     "text": [
      "All paths from 'S' to 'F':\n",
      "S -> A -> F\n",
      "S -> B -> C -> E -> F\n",
      "S -> B -> D -> F\n"
     ]
    }
   ],
   "source": [
    "def find_all_paths(graph, start, end, path=[]):\n",
    "    path = path + [start]\n",
    "    if start == end:\n",
    "        return [path]\n",
    "    if start not in graph:\n",
    "        return []\n",
    "    paths = []\n",
    "    for node in graph[start]:\n",
    "        if node not in path:\n",
    "            new_paths = find_all_paths(graph, node, end, path)\n",
    "            for new_path in new_paths:\n",
    "                paths.append(new_path)\n",
    "    return paths\n",
    "\n",
    "# Define the graph as an adjacency list\n",
    "graph = {\n",
    "    'S': ['A', 'B'],\n",
    "    'A': ['S', 'F'],\n",
    "    'B': ['S', 'C', 'D'],\n",
    "    'C': ['B', 'E'],\n",
    "    'D': ['B', 'F'],\n",
    "    'E': ['C', 'F'],\n",
    "    'F': ['A', 'D', 'E']\n",
    "}\n",
    "\n",
    "# Starting and goal vertices\n",
    "start_vertex = 'S'\n",
    "goal_vertex = 'F'\n",
    "\n",
    "# Find all paths from 'S' to 'F'\n",
    "all_paths = find_all_paths(graph, start_vertex, goal_vertex)\n",
    "\n",
    "# Print all paths\n",
    "print(\"All paths from 'S' to 'F':\")\n",
    "for path in all_paths:\n",
    "    print(\" -> \".join(path))\n"
   ]
  },
  {
   "cell_type": "markdown",
   "id": "10a4a2c1",
   "metadata": {},
   "source": [
    "# BFS"
   ]
  },
  {
   "cell_type": "code",
   "execution_count": 5,
   "id": "df1f5573",
   "metadata": {},
   "outputs": [
    {
     "name": "stdout",
     "output_type": "stream",
     "text": [
      "Shortest path from S to F : S -> A -> F\n"
     ]
    }
   ],
   "source": [
    "# Function to perform Hill Climbing Search\n",
    "def hill_climbing_search(graph, start, goal):\n",
    "    current_node = start\n",
    "    current_path = [current_node]\n",
    "\n",
    "    while current_node != goal:\n",
    "        neighbors = graph[current_node]\n",
    "        valid_neighbors = [neighbor for neighbor in neighbors if neighbor not in current_path]\n",
    "\n",
    "        if not valid_neighbors:\n",
    "            print(\"No path found.\")\n",
    "            return None\n",
    "        else:\n",
    "            # Select the neighbor with the lowest cost (uniform length)\n",
    "            current_node = min(valid_neighbors)\n",
    "            current_path.append(current_node)\n",
    "\n",
    "    return current_path\n",
    "\n",
    "# Test the hill climbing algorithm\n",
    "start_node = 'S'\n",
    "goal_node = 'F'\n",
    "path = hill_climbing_search(graph, start_node, goal_node)\n",
    "\n",
    "if path:\n",
    "    print(\"Shortest path from\", start_node, \"to\", goal_node, \":\", \" -> \".join(path))\n",
    "else:\n",
    "    print(\"No path found from\", start_node, \"to\", goal_node)\n"
   ]
  },
  {
   "cell_type": "markdown",
   "id": "dae4ee9d",
   "metadata": {},
   "source": [
    "# Hill climbing"
   ]
  },
  {
   "cell_type": "code",
   "execution_count": 3,
   "id": "1dbc5254",
   "metadata": {},
   "outputs": [
    {
     "name": "stdout",
     "output_type": "stream",
     "text": [
      "Hill Climbing Search starting from vertex S\n",
      "All paths from 'S' to 'F':\n",
      "S -> B -> D -> F\n"
     ]
    }
   ],
   "source": [
    "import random\n",
    "\n",
    "def hill_climbing_search(graph, start_vertex, goal_vertex):\n",
    "    visited = set()\n",
    "    stack = [(start_vertex, [start_vertex])]  # Stack stores (vertex, path) tuples\n",
    "    paths = []\n",
    "\n",
    "    while stack:\n",
    "        current_vertex, path = stack.pop()\n",
    "\n",
    "        if current_vertex == goal_vertex:\n",
    "            paths.append(path)\n",
    "\n",
    "        if current_vertex not in visited:\n",
    "            visited.add(current_vertex)\n",
    "            neighbors = graph[current_vertex]\n",
    "\n",
    "            for neighbor in neighbors:\n",
    "                if neighbor not in visited:\n",
    "                    new_path = path + [neighbor]\n",
    "                    stack.append((neighbor, new_path))\n",
    "\n",
    "    return paths\n",
    "\n",
    "# Define the graph as an adjacency list\n",
    "graph = {\n",
    "    'S': ['A', 'B'],\n",
    "    'A': ['S', 'F'],\n",
    "    'B': ['S', 'C', 'D'],\n",
    "    'C': ['B', 'E'],\n",
    "    'D': ['B', 'F'],\n",
    "    'E': ['C', 'F'],\n",
    "    'F': ['A', 'D', 'E']\n",
    "}\n",
    "\n",
    "# Starting and goal vertices\n",
    "start_vertex = 'S'\n",
    "goal_vertex = 'F'\n",
    "\n",
    "print(\"Hill Climbing Search starting from vertex\", start_vertex)\n",
    "all_paths = hill_climbing_search(graph, start_vertex, goal_vertex)\n",
    "\n",
    "# Print all paths\n",
    "if all_paths:\n",
    "    print(\"All paths from 'S' to 'F':\")\n",
    "    for path in all_paths:\n",
    "        print(\" -> \".join(path))\n",
    "else:\n",
    "    print(\"No paths found from 'S' to 'F' in the graph.\")\n"
   ]
  },
  {
   "cell_type": "markdown",
   "id": "c1215ff9",
   "metadata": {},
   "source": [
    "# Beam search"
   ]
  },
  {
   "cell_type": "code",
   "execution_count": 2,
   "id": "e7db2e50",
   "metadata": {},
   "outputs": [
    {
     "name": "stdout",
     "output_type": "stream",
     "text": [
      "Path from 'S' to 'F' (Beam Search): S -> A -> F\n"
     ]
    }
   ],
   "source": [
    "import heapq\n",
    "\n",
    "# Function to perform Beam Search\n",
    "def beam_search(graph, start, goal, beam_width):\n",
    "    open_list = [(0, [start])]\n",
    "    \n",
    "    while open_list:\n",
    "        _, current_path = heapq.heappop(open_list)\n",
    "        current_node = current_path[-1]\n",
    "\n",
    "        if current_node == goal:\n",
    "            return current_path\n",
    "\n",
    "        neighbors = []\n",
    "        for neighbor in range(len(graph[current_node])):\n",
    "            if graph[current_node][neighbor] == 1:\n",
    "                neighbors.append(neighbor)\n",
    "\n",
    "        next_paths = [(calculate_heuristic(neighbor, goal), current_path + [neighbor]) for neighbor in neighbors]\n",
    "        next_paths.sort(key=lambda x: x[0])  # Sort by heuristic value\n",
    "        open_list.extend(next_paths[:beam_width])  # Add top 'beam_width' paths to open_list\n",
    "\n",
    "    return None\n",
    "\n",
    "# Calculate a simple heuristic (distance to goal)\n",
    "def calculate_heuristic(node, goal):\n",
    "    return abs(node - goal)\n",
    "\n",
    "# Sample graph represented as an adjacency matrix\n",
    "graph = [\n",
    "    [0, 1, 0, 0, 0, 0],\n",
    "    [1, 0, 1, 0, 0, 1],\n",
    "    [0, 1, 0, 1, 1, 0],\n",
    "    [0, 0, 1, 0, 1, 1],\n",
    "    [0, 0, 1, 1, 0, 1],\n",
    "    [0, 1, 0, 1, 1, 0]\n",
    "]\n",
    "\n",
    "# Finding the path taken by Beam Search from 'S' to 'F' with a beam width of 2\n",
    "start_vertex = 0  # Index of 'S'\n",
    "end_vertex = 5    # Index of 'F'\n",
    "beam_width = 2    # Beam width\n",
    "\n",
    "beam_search_path = beam_search(graph, start_vertex, end_vertex, beam_width)\n",
    "\n",
    "if beam_search_path:\n",
    "    print(\"Path from 'S' to 'F' (Beam Search):\", \" -> \".join(vertices[vertex] for vertex in beam_search_path))\n",
    "else:\n",
    "    print(\"No path from 'S' to 'F'\")\n"
   ]
  },
  {
   "cell_type": "code",
   "execution_count": null,
   "id": "d56cf835",
   "metadata": {},
   "outputs": [],
   "source": []
  }
 ],
 "metadata": {
  "kernelspec": {
   "display_name": "Python 3 (ipykernel)",
   "language": "python",
   "name": "python3"
  },
  "language_info": {
   "codemirror_mode": {
    "name": "ipython",
    "version": 3
   },
   "file_extension": ".py",
   "mimetype": "text/x-python",
   "name": "python",
   "nbconvert_exporter": "python",
   "pygments_lexer": "ipython3",
   "version": "3.9.12"
  }
 },
 "nbformat": 4,
 "nbformat_minor": 5
}
